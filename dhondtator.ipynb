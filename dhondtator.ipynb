{
 "cells": [
  {
   "cell_type": "code",
   "execution_count": 21,
   "metadata": {},
   "outputs": [],
   "source": [
    "import re\n",
    "import xml.etree.ElementTree as ET\n",
    "\n",
    "xmlfile = open('vysledky.xml',encoding='iso-8859-2')\n",
    "xmlfile = xmlfile.read()\n",
    "\n",
    "#namespace pryc kvuli ElementTree\n",
    "xmlstring = re.sub(' xmlns=\"[^\"]+\"', '', xmlfile, count=1)\n",
    "root = ET.fromstring(xmlstring)"
   ]
  },
  {
   "cell_type": "code",
   "execution_count": 22,
   "metadata": {
    "collapsed": true
   },
   "outputs": [
    {
     "name": "stdout",
     "output_type": "stream",
     "text": [
      "[['Hlavní město Praha', [345558], [['5', 65259, 0], ['9', 13156, 0], ['26', 71687, 0], ['27', 66099, 0], ['28', 19958, 0], ['30', 46137, 0], ['39', 16505, 0]]], ['Středočeský kraj', [311493], [['5', 53828, 0], ['9', 19929, 0], ['26', 44125, 0], ['27', 47519, 0], ['28', 24951, 0], ['30', 60881, 0], ['39', 11680, 0]]], ['Jihočeský kraj', [147224], [['5', 21266, 0], ['9', 11482, 0], ['26', 16709, 0], ['27', 20214, 0], ['28', 13660, 0], ['30', 31694, 0], ['39', 9764, 0]]], ['Plzeňský kraj', [125754], [['5', 19605, 0], ['9', 10218, 0], ['26', 13887, 0], ['27', 15645, 0], ['28', 12067, 0], ['30', 28899, 0], ['39', 5292, 0]]], ['Karlovarský kraj', [53535], [['5', 6136, 0], ['9', 3934, 0], ['26', 5233, 0], ['27', 6599, 0], ['28', 6447, 0], ['30', 14478, 0], ['39', 1402, 0]]], ['Ústecký kraj', [141720], [['5', 17696, 0], ['9', 13008, 0], ['26', 11747, 0], ['27', 16363, 0], ['28', 15786, 0], ['30', 40738, 0], ['39', 2938, 0]]], ['Liberecký kraj', [97800], [['5', 13473, 0], ['9', 5436, 0], ['26', 13626, 0], ['27', 14595, 0], ['28', 10291, 0], ['30', 21914, 0], ['39', 2943, 0]]], ['Královéhradecký kraj', [132761], [['5', 19005, 0], ['9', 8714, 0], ['26', 14756, 0], ['27', 19010, 0], ['28', 11362, 0], ['30', 30969, 0], ['39', 9004, 0]]], ['Pardubický kraj', [117292], [['5', 16132, 0], ['9', 8509, 0], ['26', 11130, 0], ['27', 16430, 0], ['28', 9800, 0], ['30', 26088, 0], ['39', 11287, 0]]], ['Kraj Vysočina', [120408], [['5', 15941, 0], ['9', 9396, 0], ['26', 10211, 0], ['27', 15809, 0], ['28', 10181, 0], ['30', 24634, 0], ['39', 15626, 0]]], ['Jihomoravský kraj', [278155], [['5', 37786, 0], ['9', 19258, 0], ['26', 26681, 0], ['27', 36552, 0], ['28', 26595, 0], ['30', 54843, 0], ['39', 32556, 0]]], ['Olomoucký kraj', [134219], [['5', 14732, 0], ['9', 10613, 0], ['26', 12353, 0], ['27', 15743, 0], ['28', 15627, 0], ['30', 32301, 0], ['39', 12646, 0]]], ['Zlínský kraj', [133757], [['5', 15189, 0], ['9', 8467, 0], ['26', 10694, 0], ['27', 15466, 0], ['28', 14235, 0], ['30', 28530, 0], ['39', 20212, 0]]], ['Moravskoslezský kraj', [231089], [['5', 28837, 0], ['9', 22504, 0], ['26', 13381, 0], ['27', 24800, 0], ['28', 25758, 0], ['30', 60237, 0], ['39', 19868, 0]]]]\n"
     ]
    }
   ],
   "source": [
    "# XML parsing\n",
    "vysledky = []\n",
    "\n",
    "# skrutinium\n",
    "hranice = 5 # kolik procent je potreba\n",
    "\n",
    "strany = []\n",
    "for strana in root.find(\"CR\").iter(\"STRANA\"):\n",
    "    if float(strana.find(\"HLASY_STRANA\").get(\"PROC_HLASU\")) > hranice:\n",
    "        strany.append(strana.get(\"ESTRANA\"))\n",
    "\n",
    "for kraj in root.iter(\"KRAJ\"): \n",
    "        nazev = kraj.get(\"NAZ_KRAJ\")\n",
    "        hlasy = kraj.find(\"UCAST\").get(\"PLATNE_HLASY\")\n",
    "        \n",
    "        vyslstrany = []\n",
    "        for strana in kraj.iter(\"HLASY_STRANA\"):\n",
    "            if strana.get(\"ESTRANA\") in strany:\n",
    "                vyslstrany.append([strana.get(\"ESTRANA\"),int(strana.get(\"HLASY\")),0])\n",
    "                \n",
    "        vysledky.append([nazev, [int(hlasy)], vyslstrany])\n",
    "print(vysledky)"
   ]
  },
  {
   "cell_type": "code",
   "execution_count": 23,
   "metadata": {
    "collapsed": true
   },
   "outputs": [],
   "source": [
    "# republikove mandatove cislo\n",
    "hlasy_celkem = 0\n",
    "for kraj in vysledky:\n",
    "    hlasy_celkem += kraj[1][0]\n",
    "rmc = round(hlasy_celkem/200)"
   ]
  },
  {
   "cell_type": "code",
   "execution_count": 24,
   "metadata": {
    "collapsed": true
   },
   "outputs": [],
   "source": [
    "# vypocet zakladniho poctu mandatu v jednotlivych krajich\n",
    "mtotal = 0\n",
    "for kraj in vysledky:\n",
    "    mbase = kraj[1][0]/rmc\n",
    "    kraj[1].extend(divmod(mbase,1))\n",
    "    mtotal += int(mbase)"
   ]
  },
  {
   "cell_type": "code",
   "execution_count": 25,
   "metadata": {
    "collapsed": true
   },
   "outputs": [],
   "source": [
    "# dopocet do 200 mandatu\n",
    "mmissing = 200 - mtotal\n",
    "\n",
    "for kraj in sorted(vysledky, key=lambda kraj: kraj[1][2], reverse=True)[0:mmissing]:\n",
    "    kraj[1][1] += 1"
   ]
  },
  {
   "cell_type": "code",
   "execution_count": 26,
   "metadata": {
    "collapsed": true
   },
   "outputs": [],
   "source": [
    "# dhondtuv prepocet\n",
    "\n",
    "for kraj in vysledky:\n",
    "    \n",
    "    # deli se jednickou az poctem mandatu\n",
    "    mandaty = int(kraj[1][1])\n",
    "    \n",
    "    dhondtlist = []\n",
    "    \n",
    "    # vypocteni podilu\n",
    "    for strana in kraj[2]:    \n",
    "        for i in range(mandaty):\n",
    "            dhondtlist.append([strana[0], round(strana[1]/(i+1))]) \n",
    "\n",
    "    # rozdeleni mandatu\n",
    "    for mandat in sorted(dhondtlist, key=lambda zaznam: zaznam[1], reverse=True)[0:mandaty]:\n",
    "        for strana in kraj[2]:\n",
    "            if mandat[0] == strana[0]:\n",
    "                strana[2] += 1"
   ]
  },
  {
   "cell_type": "code",
   "execution_count": 27,
   "metadata": {},
   "outputs": [
    {
     "name": "stdout",
     "output_type": "stream",
     "text": [
      "30 ::: 56\n",
      "27 ::: 36\n",
      "5 ::: 35\n",
      "26 ::: 25\n",
      "28 ::: 19\n",
      "9 ::: 15\n",
      "39 ::: 14\n"
     ]
    }
   ],
   "source": [
    "# soucet\n",
    "\n",
    "soucet = {}\n",
    "for kraj in vysledky:\n",
    "    for strana in kraj[2]:\n",
    "        if strana [0] in soucet:\n",
    "            soucet[strana[0]] += strana[2]\n",
    "        else:\n",
    "            soucet[strana[0]] = strana[2]\n",
    "    \n",
    "for zaznam in sorted(soucet.items(), key=lambda zaznam: zaznam[1], reverse=True):\n",
    "    print(zaznam[0],\":::\",zaznam[1])"
   ]
  },
  {
   "cell_type": "code",
   "execution_count": null,
   "metadata": {
    "collapsed": true
   },
   "outputs": [],
   "source": []
  }
 ],
 "metadata": {
  "kernelspec": {
   "display_name": "Python 3",
   "language": "python",
   "name": "python3"
  },
  "language_info": {
   "codemirror_mode": {
    "name": "ipython",
    "version": 3
   },
   "file_extension": ".py",
   "mimetype": "text/x-python",
   "name": "python",
   "nbconvert_exporter": "python",
   "pygments_lexer": "ipython3",
   "version": "3.7.3"
  }
 },
 "nbformat": 4,
 "nbformat_minor": 2
}
